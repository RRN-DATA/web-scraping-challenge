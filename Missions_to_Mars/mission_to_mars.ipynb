{
 "cells": [
  {
   "cell_type": "code",
   "execution_count": 1,
   "metadata": {},
   "outputs": [
    {
     "name": "stdout",
     "output_type": "stream",
     "text": [
      "Requirement already satisfied: selenium in /Users/rajarajen/opt/anaconda3/envs/PythonData/lib/python3.7/site-packages (3.141.0)\n",
      "Requirement already satisfied: urllib3 in /Users/rajarajen/opt/anaconda3/envs/PythonData/lib/python3.7/site-packages (from selenium) (1.25.8)\n",
      "Requirement already satisfied: splinter in /Users/rajarajen/opt/anaconda3/envs/PythonData/lib/python3.7/site-packages (0.13.0)\n",
      "Requirement already satisfied: six in /Users/rajarajen/opt/anaconda3/envs/PythonData/lib/python3.7/site-packages (from splinter) (1.14.0)\n",
      "Requirement already satisfied: selenium>=3.141.0 in /Users/rajarajen/opt/anaconda3/envs/PythonData/lib/python3.7/site-packages (from splinter) (3.141.0)\n",
      "Requirement already satisfied: urllib3 in /Users/rajarajen/opt/anaconda3/envs/PythonData/lib/python3.7/site-packages (from selenium>=3.141.0->splinter) (1.25.8)\n"
     ]
    }
   ],
   "source": [
    "import pandas as pd\n",
    "import matplotlib as plt\n",
    "from bs4 import BeautifulSoup as bs\n",
    "import requests\n",
    "import splinter as sp\n",
    "from bs4 import SoupStrainer as ss\n",
    "!pip install selenium\n",
    "!pip install splinter\n",
    "from splinter import Browser\n",
    "from bs4 import BeautifulSoup"
   ]
  },
  {
   "cell_type": "code",
   "execution_count": 67,
   "metadata": {},
   "outputs": [],
   "source": [
    "#Site Navigation\n",
    "executable_path = {\"executable_path\": \"/usr/local/Caskroom/chromedriver/80.0.3987.106/chromedriver\"}\n",
    "browser = Browser(\"chrome\", **executable_path, headless=False)"
   ]
  },
  {
   "cell_type": "code",
   "execution_count": 3,
   "metadata": {},
   "outputs": [],
   "source": [
    "nasa_url = \"https://mars.nasa.gov/news/\"\n",
    "browser.visit(nasa_url)\n",
    "html = browser.html\n",
    "soup = bs(html, \"html.parser\")"
   ]
  },
  {
   "cell_type": "code",
   "execution_count": 4,
   "metadata": {},
   "outputs": [],
   "source": [
    "Titles=[]\n",
    "TitlesCollection = soup.find_all(\"div\", class_='list_text')\n",
    "for T in TitlesCollection:\n",
    "    SepDIV=T.find_all('div', class_='content_title')\n",
    "    for S in SepDIV:\n",
    "        Titles.append(S.a.text)"
   ]
  },
  {
   "cell_type": "code",
   "execution_count": 5,
   "metadata": {},
   "outputs": [],
   "source": [
    "Contents=[]\n",
    "ContentCollection = soup.find_all(\"div\", class_='article_teaser_body')\n",
    "for T in TitlesCollection:\n",
    "    SepDIV=T.find_all(\"div\", class_='article_teaser_body')\n",
    "    for S in SepDIV:\n",
    "        Contents.append(S.text)"
   ]
  },
  {
   "cell_type": "code",
   "execution_count": 7,
   "metadata": {},
   "outputs": [],
   "source": [
    "MarsImageURL=\"https://www.jpl.nasa.gov/spaceimages/?search=&category=Mars\"\n",
    "browser.visit(MarsImageURL)\n",
    "Mhtml=browser.html"
   ]
  },
  {
   "cell_type": "code",
   "execution_count": 64,
   "metadata": {},
   "outputs": [
    {
     "data": {
      "text/plain": [
       "'https://www.jpl.nasa.gov/spaceimages/images/wallpaper/PIA18433-1920x1200.jpg'"
      ]
     },
     "execution_count": 64,
     "metadata": {},
     "output_type": "execute_result"
    }
   ],
   "source": [
    "msoup=bs(Mhtml, 'lxml')\n",
    "imageurl=msoup.find('article')['style']\n",
    "startposition=imageurl.find(\"(\",0,len(imageurl))+2\n",
    "endposition=imageurl.find(\")\",0,len(imageurl))-1\n",
    "imageurl=imageurl[startposition:endposition]\n",
    "featured_image_url = \"https://www.jpl.nasa.gov\" + str(imageurl)\n",
    "featured_image_url"
   ]
  },
  {
   "cell_type": "code",
   "execution_count": 121,
   "metadata": {},
   "outputs": [
    {
     "name": "stdout",
     "output_type": "stream",
     "text": [
      "https://www.jpl.nasa.gov/spaceimages/images/wallpaper/PIA23745-640x350.jpg\n"
     ]
    }
   ],
   "source": [
    "ImageURL = msoup.find(\"img\", class_=\"thumb\")[\"src\"]\n",
    "featured_image_url = \"https://www.jpl.nasa.gov\" + ImageURL\n",
    "print(featured_image_url)"
   ]
  },
  {
   "cell_type": "code",
   "execution_count": 144,
   "metadata": {},
   "outputs": [
    {
     "name": "stdout",
     "output_type": "stream",
     "text": [
      "InSight sol 452 (2020-03-05) low -94.2ºC (-137.7ºF) high -9.2ºC (15.4ºF)\n",
      "winds from the SSW at 6.5 m/s (14.5 mph) gusting to 19.6 m/s (43.9 mph)\n",
      "pressure at 6.30 hPa\n"
     ]
    }
   ],
   "source": [
    "import os\n",
    "import time\n",
    "twitter = 'https://twitter.com/marswxreport?lang=en'\n",
    "browser.visit(twitter)\n",
    "time.sleep(1)\n",
    "twitterHTML = browser.html\n",
    "\n",
    "# Beautiful Soup\n",
    "tsoup = bs(twitterHTML, 'html.parser')\n",
    "\n",
    "# Find all elements in span\n",
    "allspan = tsoup.body.find_all('span')\n",
    "\n",
    "# Retrieve all elements that contain news title in the specified range\n",
    "# Look for entries that display weather related words to exclude non weather related tweets \n",
    "for tweet in latest_tweets: \n",
    "    #print(tweet.text)\n",
    "    mars_weather = tweet.text\n",
    "    if 'sol' and 'pressure' in mars_weather:\n",
    "        print(mars_weather)\n",
    "        break\n",
    "    else: \n",
    "        pass"
   ]
  },
  {
   "cell_type": "code",
   "execution_count": null,
   "metadata": {},
   "outputs": [],
   "source": []
  }
 ],
 "metadata": {
  "kernelspec": {
   "display_name": "Python 3",
   "language": "python",
   "name": "python3"
  },
  "language_info": {
   "codemirror_mode": {
    "name": "ipython",
    "version": 3
   },
   "file_extension": ".py",
   "mimetype": "text/x-python",
   "name": "python",
   "nbconvert_exporter": "python",
   "pygments_lexer": "ipython3",
   "version": "3.7.6"
  }
 },
 "nbformat": 4,
 "nbformat_minor": 4
}
